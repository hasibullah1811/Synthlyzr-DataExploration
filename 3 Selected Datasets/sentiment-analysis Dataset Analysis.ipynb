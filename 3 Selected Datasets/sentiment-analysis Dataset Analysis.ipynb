{
 "cells": [
  {
   "cell_type": "markdown",
   "id": "a5d3caae-c3c6-4966-b3d4-0b568ad379f0",
   "metadata": {},
   "source": [
    "# Parse the CSV File"
   ]
  },
  {
   "cell_type": "code",
   "execution_count": 4,
   "id": "e7735f03-f042-4b02-b3ca-38a2cf583ce6",
   "metadata": {},
   "outputs": [
    {
     "name": "stdout",
     "output_type": "stream",
     "text": [
      "<DatetimeArray>\n",
      "[                'NaT', '2023-06-15 09:23:14', '2023-06-15 11:45:32',\n",
      " '2023-06-15 14:10:22', '2023-06-15 17:35:11', '2023-06-16 08:50:59',\n",
      " '2023-06-16 10:15:27', '2023-06-16 13:40:18', '2023-06-16 16:05:36',\n",
      " '2023-07-02 09:12:34', '2023-07-02 10:45:21', '2023-07-02 12:34:56',\n",
      " '2023-07-02 15:21:43', '2023-07-02 18:01:23', '2023-07-02 20:45:37',\n",
      " '2023-07-03 09:17:52', '2023-07-03 11:59:18', '2023-07-03 14:40:05',\n",
      " '2023-07-03 17:25:09', '2023-07-03 20:15:33', '2023-07-04 08:32:41',\n",
      " '2023-07-04 14:05:27', '2023-07-04 16:35:19', '2023-07-04 19:18:53',\n",
      " '2023-07-04 21:52:41', '2023-07-05 09:10:15', '2023-07-05 12:30:08',\n",
      " '2023-07-05 15:45:32', '2023-07-05 18:20:17', '2023-07-05 21:05:44',\n",
      " '2023-07-06 08:48:39', '2023-07-06 11:25:56', '2023-07-06 14:15:23',\n",
      " '2023-07-06 17:02:11', '2023-07-09 09:12:54', '2023-07-09 11:45:32',\n",
      " '2023-07-09 14:23:18', '2023-07-09 17:05:46', '2023-07-09 19:40:27',\n",
      " '2023-07-10 08:50:13', '2023-07-10 11:32:59', '2023-07-10 14:20:05',\n",
      " '2023-07-10 17:15:22', '2023-07-10 20:02:37', '2023-07-11 08:40:51',\n",
      " '2023-07-11 11:22:17', '2023-07-11 14:18:42', '2023-07-11 17:30:15',\n",
      " '2023-07-11 20:15:42', '2023-07-12 09:05:59', '2023-07-12 11:45:27',\n",
      " '2023-07-12 14:30:18', '2023-07-12 17:10:36', '2023-07-13 08:50:59',\n",
      " '2023-07-13 11:25:27', '2023-07-13 14:05:42', '2023-07-13 16:35:19',\n",
      " '2023-07-17 08:50:13', '2023-07-17 11:32:59', '2023-07-17 14:20:05',\n",
      " '2023-07-17 17:15:22', '2023-07-13 19:18:53', '2023-07-14 08:32:41',\n",
      " '2023-07-14 11:05:27', '2023-07-14 14:40:05', '2023-07-14 17:25:09',\n",
      " '2023-07-15 08:50:13', '2023-07-15 12:30:08', '2023-07-15 15:45:32',\n",
      " '2023-07-15 18:20:17', '2023-07-15 21:05:44', '2023-07-16 09:12:54',\n",
      " '2023-07-16 11:45:32', '2023-07-16 14:23:18', '2023-07-16 17:05:46',\n",
      " '2023-07-16 19:40:27']\n",
      "Length: 76, dtype: datetime64[ns]\n"
     ]
    }
   ],
   "source": [
    "# Display rows with invalid or inconsistent date formats\n",
    "print(df[\"Date/Time\"].unique())"
   ]
  },
  {
   "cell_type": "code",
   "execution_count": 5,
   "id": "765c84bf-6671-4446-a65e-ae901e8c3ee9",
   "metadata": {},
   "outputs": [],
   "source": [
    "# Parse dates explicitly using a consistent format\n",
    "df[\"Date/Time\"] = pd.to_datetime(df[\"Date/Time\"], format=\"%Y-%m-%d %H:%M:%S\", errors=\"coerce\")"
   ]
  },
  {
   "cell_type": "code",
   "execution_count": 7,
   "id": "2528a888-7704-408b-abe8-4d95a5a9e5a5",
   "metadata": {},
   "outputs": [
    {
     "name": "stderr",
     "output_type": "stream",
     "text": [
      "/var/folders/q_/2tddcp750xn1_gjdp47qjfp40000gn/T/ipykernel_72235/1046409255.py:16: UserWarning: Could not infer format, so each element will be parsed individually, falling back to `dateutil`. To ensure parsing is consistent and as-expected, please specify a format.\n",
      "  df[\"Date/Time\"] = pd.to_datetime(df[\"Date/Time\"], errors=\"coerce\")\n"
     ]
    }
   ],
   "source": [
    "import pandas as pd\n",
    "\n",
    "# Read the CSV file as a single column\n",
    "file_path = \"sentiment-analysis.csv\" \n",
    "raw_df = pd.read_csv(file_path, header=None, names=[\"raw_data\"])\n",
    "\n",
    "# Split the single column into multiple columns\n",
    "columns = [\"Text\", \"Sentiment\", \"Source\", \"Date/Time\", \"User ID\", \"Location\", \"Confidence Score\"]\n",
    "df = raw_df[\"raw_data\"].str.split(\",\", expand=True)\n",
    "df.columns = columns\n",
    "\n",
    "# Strip any extra whitespace from the columns\n",
    "df = df.apply(lambda x: x.str.strip() if x.dtype == \"object\" else x)\n",
    "\n",
    "# Convert Date/Time column to datetime\n",
    "df[\"Date/Time\"] = pd.to_datetime(df[\"Date/Time\"], errors=\"coerce\")\n",
    "\n",
    "# Convert Confidence Score to numeric\n",
    "df[\"Confidence Score\"] = pd.to_numeric(df[\"Confidence Score\"], errors=\"coerce\")\n",
    "\n",
    "# Save the parsed data to a new CSV for verification\n",
    "df.to_csv(\"parsed_sentiment_data.csv\", index=False)\n"
   ]
  },
  {
   "cell_type": "markdown",
   "id": "be1a10ee-e190-4d1e-9fb0-344d5171b863",
   "metadata": {},
   "source": [
    "# Data Cleaning"
   ]
  },
  {
   "cell_type": "code",
   "execution_count": 12,
   "id": "4f04716c-09be-44b0-af63-73c6ad5fbfd7",
   "metadata": {},
   "outputs": [],
   "source": [
    "import pandas as pd\n",
    "import numpy as np\n",
    "\n",
    "\n",
    "df = pd.read_csv(\"parsed_sentiment_data.csv\")\n",
    "\n",
    "# Handle missing values\n",
    "df.dropna(inplace=True)\n",
    "\n",
    "# Remove duplicates\n",
    "df.drop_duplicates(inplace=True)\n",
    "\n",
    "# Save cleaned data\n",
    "df.to_csv(\"cleaned_sentiment_data.csv\", index=False)"
   ]
  },
  {
   "cell_type": "markdown",
   "id": "61c00449-25e6-4b93-97fa-23ca5df866ef",
   "metadata": {},
   "source": [
    "# Sentiment analysis"
   ]
  },
  {
   "cell_type": "code",
   "execution_count": 14,
   "id": "7b22067a-b803-4b89-8fe2-6a5898e799b3",
   "metadata": {},
   "outputs": [
    {
     "name": "stdout",
     "output_type": "stream",
     "text": [
      "Collecting textblob\n",
      "  Downloading textblob-0.18.0.post0-py3-none-any.whl (626 kB)\n",
      "\u001b[2K     \u001b[90m━━━━━━━━━━━━━━━━━━━━━━━━━━━━━━━━━━━━━━━\u001b[0m \u001b[32m626.3/626.3 kB\u001b[0m \u001b[31m8.8 MB/s\u001b[0m eta \u001b[36m0:00:00\u001b[0ma \u001b[36m0:00:01\u001b[0m\n",
      "\u001b[?25hRequirement already satisfied: nltk>=3.8 in /Users/hasibullah/miniconda3/lib/python3.11/site-packages (from textblob) (3.8.1)\n",
      "Requirement already satisfied: click in /Users/hasibullah/miniconda3/lib/python3.11/site-packages (from nltk>=3.8->textblob) (8.1.7)\n",
      "Requirement already satisfied: joblib in /Users/hasibullah/miniconda3/lib/python3.11/site-packages (from nltk>=3.8->textblob) (1.1.1)\n",
      "Requirement already satisfied: regex>=2021.8.3 in /Users/hasibullah/miniconda3/lib/python3.11/site-packages (from nltk>=3.8->textblob) (2023.8.8)\n",
      "Requirement already satisfied: tqdm in /Users/hasibullah/miniconda3/lib/python3.11/site-packages (from nltk>=3.8->textblob) (4.65.0)\n",
      "Installing collected packages: textblob\n",
      "Successfully installed textblob-0.18.0.post0\n"
     ]
    }
   ],
   "source": [
    "!pip install textblob"
   ]
  },
  {
   "cell_type": "code",
   "execution_count": 17,
   "id": "60439b56-181a-4089-a6f0-6ef9dab256cd",
   "metadata": {},
   "outputs": [],
   "source": [
    "from textblob import TextBlob\n",
    "\n",
    "# Validate sentiment labels\n",
    "df[\"calculated_sentiment\"] = df[\"Text\"].apply(\n",
    "    lambda x: \"Positive\" if TextBlob(x).sentiment.polarity > 0 else \"Negative\"\n",
    ")\n",
    "\n",
    "# Checking consistency between provided and calculated sentiment\n",
    "df[\"label_match\"] = df[\"Sentiment\"] == df[\"calculated_sentiment\"]\n",
    "\n",
    "# Save validated data\n",
    "df.to_csv(\"validated_sentiment_data.csv\", index=False)"
   ]
  },
  {
   "cell_type": "code",
   "execution_count": 18,
   "id": "6e2beaa3-751e-4416-93da-9310cee9cece",
   "metadata": {},
   "outputs": [
    {
     "name": "stdout",
     "output_type": "stream",
     "text": [
      "Sentiment(polarity=0.6125, subjectivity=0.75)\n"
     ]
    }
   ],
   "source": [
    "text = \"I love this product! It's amazing.\"\n",
    "blob = TextBlob(text)\n",
    "print(blob.sentiment)"
   ]
  },
  {
   "cell_type": "markdown",
   "id": "faa12104-c3c3-4c37-bce3-4a7f21f5a359",
   "metadata": {},
   "source": [
    "# Statistical Analysis"
   ]
  },
  {
   "cell_type": "code",
   "execution_count": 21,
   "id": "4d5d89ef-255c-42f6-97b6-70be735dbaa0",
   "metadata": {},
   "outputs": [
    {
     "name": "stdout",
     "output_type": "stream",
     "text": [
      "0\n"
     ]
    }
   ],
   "source": [
    "# Convert the 'Date/Time' column to datetime format\n",
    "df[\"Date/Time\"] = pd.to_datetime(df[\"Date/Time\"], errors=\"coerce\")\n",
    "\n",
    "# Check if there are any invalid dates\n",
    "print(df[\"Date/Time\"].isna().sum())  # Count rows with invalid dates\n",
    "\n",
    "# Drop rows with invalid datetime values, if necessary\n",
    "df.dropna(subset=[\"Date/Time\"], inplace=True)"
   ]
  },
  {
   "cell_type": "code",
   "execution_count": 24,
   "id": "1f1d8289-7fc9-4eb9-afdc-7d2578143630",
   "metadata": {},
   "outputs": [
    {
     "name": "stdout",
     "output_type": "stream",
     "text": [
      "Sentiment\n",
      "Positive    42\n",
      "Negative    33\n",
      "Name: count, dtype: int64\n",
      "Sentiment   Negative  Positive\n",
      "Year/Month                    \n",
      "2023-06     0.375000  0.625000\n",
      "2023-07     0.447761  0.552239\n",
      "Source\n",
      "Online Store           10\n",
      "Spotify                 6\n",
      "Zomato                  5\n",
      "Website Review          5\n",
      "Goodreads               5\n",
      "IMDb                    4\n",
      "TripAdvisor             4\n",
      "Online Chat             4\n",
      "Yelp Reviews            4\n",
      "Music Review            3\n",
      "Theme Park Review       3\n",
      "Event Review            3\n",
      "Website Testimonial     3\n",
      "Retail Store            2\n",
      "Online Helpdesk         2\n",
      "Food Blog               1\n",
      "Travel Website          1\n",
      "Hotel Review            1\n",
      "TV Show Review          1\n",
      "Art Review              1\n",
      "Twitter                 1\n",
      "Gaming Forum            1\n",
      "Airline Review          1\n",
      "Trip Report             1\n",
      "Amazon Reviews          1\n",
      "Online Forum            1\n",
      "Travel Blog             1\n",
      "Name: count, dtype: int64\n"
     ]
    }
   ],
   "source": [
    "# Sentiment distribution\n",
    "sentiment_counts = df[\"Sentiment\"].value_counts()\n",
    "\n",
    "# Temporal trends\n",
    "df[\"Year/Month\"] = df[\"Date/Time\"].dt.to_period(\"M\")  # Group by Year/Month\n",
    "temporal_trends = df.groupby(\"Year/Month\")[\"Sentiment\"].value_counts(normalize=True).unstack()\n",
    "\n",
    "# Source analysis\n",
    "source_analysis = df[\"Source\"].value_counts()\n",
    "\n",
    "# Display results\n",
    "print(sentiment_counts)\n",
    "print(temporal_trends)\n",
    "print(source_analysis)"
   ]
  },
  {
   "cell_type": "code",
   "execution_count": 23,
   "id": "c5df5bcc-fa8e-432c-851c-cf0508dcbf99",
   "metadata": {},
   "outputs": [
    {
     "name": "stdout",
     "output_type": "stream",
     "text": [
      "datetime64[ns]\n"
     ]
    }
   ],
   "source": [
    "print(df[\"Date/Time\"].dtype)  "
   ]
  },
  {
   "cell_type": "markdown",
   "id": "23e1c761-9537-40d3-9251-4744109c39bf",
   "metadata": {},
   "source": [
    "# Data Visualization"
   ]
  },
  {
   "cell_type": "code",
   "execution_count": 25,
   "id": "7c90c5e1-58ad-4f9f-8365-9745c63e5767",
   "metadata": {},
   "outputs": [
    {
     "data": {
      "image/png": "[encoded data removed]",
      "text/plain": [
       "<Figure size 640x480 with 1 Axes>"
      ]
     },
     "metadata": {},
     "output_type": "display_data"
    },
    {
     "data": {
      "image/png": "[encoded data removed]",
      "text/plain": [
       "<Figure size 640x480 with 1 Axes>"
      ]
     },
     "metadata": {},
     "output_type": "display_data"
    }
   ],
   "source": [
    "import matplotlib.pyplot as plt\n",
    "import seaborn as sns\n",
    "\n",
    "# Sentiment distribution\n",
    "sentiment_counts.plot(kind=\"bar\", title=\"Sentiment Distribution\")\n",
    "plt.show()\n",
    "\n",
    "# Temporal trends\n",
    "temporal_trends.plot(title=\"Sentiment Trends Over Time\")\n",
    "plt.show()"
   ]
  },
  {
   "cell_type": "markdown",
   "id": "b2483552-8276-4088-84ab-bc3426520f32",
   "metadata": {},
   "source": [
    "# Text Pre-processing"
   ]
  },
  {
   "cell_type": "code",
   "execution_count": 26,
   "id": "ffb297f8-84e4-4190-b892-edab2f8358f1",
   "metadata": {},
   "outputs": [
    {
     "name": "stderr",
     "output_type": "stream",
     "text": [
      "[nltk_data] Downloading package punkt to\n",
      "[nltk_data]     /Users/hasibullah/nltk_data...\n",
      "[nltk_data]   Package punkt is already up-to-date!\n",
      "[nltk_data] Downloading package stopwords to\n",
      "[nltk_data]     /Users/hasibullah/nltk_data...\n",
      "[nltk_data]   Package stopwords is already up-to-date!\n",
      "[nltk_data] Downloading package wordnet to\n",
      "[nltk_data]     /Users/hasibullah/nltk_data...\n"
     ]
    }
   ],
   "source": [
    "from nltk.corpus import stopwords\n",
    "from nltk.tokenize import word_tokenize\n",
    "from nltk.stem import WordNetLemmatizer\n",
    "import re\n",
    "import nltk\n",
    "\n",
    "nltk.download(\"punkt\")\n",
    "nltk.download(\"stopwords\")\n",
    "nltk.download(\"wordnet\")\n",
    "\n",
    "stop_words = set(stopwords.words(\"english\"))\n",
    "lemmatizer = WordNetLemmatizer()\n",
    "\n",
    "def preprocess_text(text):\n",
    "    # Lowercase text\n",
    "    text = text.lower()\n",
    "    # Remove special characters\n",
    "    text = re.sub(r\"[^a-zA-Z0-9\\s]\", \"\", text)\n",
    "    # Tokenize\n",
    "    tokens = word_tokenize(text)\n",
    "    # Remove stopwords and lemmatize\n",
    "    tokens = [lemmatizer.lemmatize(word) for word in tokens if word not in stop_words]\n",
    "    return \" \".join(tokens)\n",
    "\n",
    "df[\"cleaned_text\"] = df[\"Text\"].apply(preprocess_text)\n"
   ]
  },
  {
   "cell_type": "markdown",
   "id": "22fc1cc7-b110-4ab0-aeb8-691574668823",
   "metadata": {},
   "source": [
    "# Topic Modelling"
   ]
  },
  {
   "cell_type": "code",
   "execution_count": 27,
   "id": "286e856a-32a7-489f-957a-840d47a2da23",
   "metadata": {},
   "outputs": [
    {
     "name": "stdout",
     "output_type": "stream",
     "text": [
      "Topic 0:\n",
      "['highly', 'poor', 'im', 'movie', 'damaged', 'book', 'quality', 'disappointed', 'song', 'product']\n",
      "Topic 1:\n",
      "['thrilling', 'technical', 'park', 'theme', 'resolution', 'support', 'ride', 'coaster', 'roller', 'experience']\n",
      "Topic 2:\n",
      "['slow', 'wait', 'delicious', 'best', 'food', 'band', 'amazing', 'website', 'concert', 'absolutely']\n",
      "Topic 3:\n",
      "['experience', 'book', 'finish', 'userfriendly', 'rude', 'staff', 'unprofessional', 'service', 'terrible', 'website']\n",
      "Topic 4:\n",
      "['ordered', 'store', 'disappointed', 'support', 'terrible', 'food', 'restaurant', 'im', 'service', 'customer']\n"
     ]
    }
   ],
   "source": [
    "from sklearn.feature_extraction.text import CountVectorizer\n",
    "from sklearn.decomposition import LatentDirichletAllocation\n",
    "\n",
    "# Vectorize the cleaned text\n",
    "vectorizer = CountVectorizer(max_df=0.95, min_df=2, stop_words=\"english\")\n",
    "dtm = vectorizer.fit_transform(df[\"cleaned_text\"])\n",
    "\n",
    "# Fit LDA model\n",
    "lda = LatentDirichletAllocation(n_components=5, random_state=42)\n",
    "lda.fit(dtm)\n",
    "\n",
    "# Print topics\n",
    "for i, topic in enumerate(lda.components_):\n",
    "    print(f\"Topic {i}:\")\n",
    "    print([vectorizer.get_feature_names_out()[index] for index in topic.argsort()[-10:]])\n"
   ]
  },
  {
   "cell_type": "markdown",
   "id": "f765f4bd-5d93-4619-b8ad-fac9d0029f21",
   "metadata": {},
   "source": [
    "# Feature Engineering"
   ]
  },
  {
   "cell_type": "code",
   "execution_count": 28,
   "id": "9cb0a8d6-ce79-4059-99e0-b3f8ec6d9ce6",
   "metadata": {},
   "outputs": [],
   "source": [
    "# Add additional features\n",
    "df[\"text_length\"] = df[\"Text\"].apply(len)\n",
    "df[\"word_count\"] = df[\"Text\"].apply(lambda x: len(x.split()))\n",
    "df[\"sentiment_score\"] = df[\"Text\"].apply(lambda x: TextBlob(x).sentiment.polarity)"
   ]
  },
  {
   "cell_type": "markdown",
   "id": "092f330e-2776-4143-8214-16ad4b927db7",
   "metadata": {},
   "source": [
    "# Machine Learning Modelling"
   ]
  },
  {
   "cell_type": "code",
   "execution_count": 29,
   "id": "f6c384b6-c1fb-4b94-b8a2-609511165ddb",
   "metadata": {},
   "outputs": [
    {
     "name": "stdout",
     "output_type": "stream",
     "text": [
      "              precision    recall  f1-score   support\n",
      "\n",
      "    Negative       0.83      0.83      0.83         6\n",
      "    Positive       0.89      0.89      0.89         9\n",
      "\n",
      "    accuracy                           0.87        15\n",
      "   macro avg       0.86      0.86      0.86        15\n",
      "weighted avg       0.87      0.87      0.87        15\n",
      "\n"
     ]
    }
   ],
   "source": [
    "from sklearn.model_selection import train_test_split\n",
    "from sklearn.feature_extraction.text import TfidfVectorizer\n",
    "from sklearn.ensemble import RandomForestClassifier\n",
    "from sklearn.metrics import classification_report\n",
    "\n",
    "# Feature extraction\n",
    "tfidf = TfidfVectorizer(max_features=5000)\n",
    "X = tfidf.fit_transform(df[\"cleaned_text\"])\n",
    "y = df[\"Sentiment\"]\n",
    "\n",
    "# Train-test split\n",
    "X_train, X_test, y_train, y_test = train_test_split(X, y, test_size=0.2, random_state=42)\n",
    "\n",
    "# Train a classifier\n",
    "clf = RandomForestClassifier()\n",
    "clf.fit(X_train, y_train)\n",
    "\n",
    "# Evaluate\n",
    "y_pred = clf.predict(X_test)\n",
    "print(classification_report(y_test, y_pred))"
   ]
  },
  {
   "cell_type": "markdown",
   "id": "67da12fe-efd2-4c21-8c0b-50473d12f04c",
   "metadata": {},
   "source": [
    "# Data Aggregation"
   ]
  },
  {
   "cell_type": "code",
   "execution_count": 30,
   "id": "0ebbcbbc-f2d2-40d2-bd09-fe9dee210f9d",
   "metadata": {},
   "outputs": [],
   "source": [
    "# Aggregate data by location\n",
    "location_sentiments = df.groupby(\"Location\")[\"Sentiment\"].value_counts(normalize=True)\n",
    "\n",
    "# Aggregate data by date\n",
    "date_sentiments = df.groupby(\"Date/Time\")[\"Sentiment\"].value_counts(normalize=True)"
   ]
  },
  {
   "cell_type": "markdown",
   "id": "63a6f303-3d5c-49f7-b2a8-31c818fe9dce",
   "metadata": {},
   "source": [
    "# Final Format for LLM"
   ]
  },
  {
   "cell_type": "code",
   "execution_count": 31,
   "id": "be614ba4-8184-488b-b479-c61cc7e33619",
   "metadata": {},
   "outputs": [],
   "source": [
    "# Save cleaned text for pretraining\n",
    "df[\"cleaned_text\"].to_csv(\"pretrain_corpus.txt\", index=False, header=False)"
   ]
  },
  {
   "cell_type": "code",
   "execution_count": null,
   "id": "e3aa4144-ea4d-4909-93bb-4ab32d67351d",
   "metadata": {},
   "outputs": [],
   "source": []
  }
 ],
 "metadata": {
  "kernelspec": {
   "display_name": "Python 3 (ipykernel)",
   "language": "python",
   "name": "python3"
  },
  "language_info": {
   "codemirror_mode": {
    "name": "ipython",
    "version": 3
   },
   "file_extension": ".py",
   "mimetype": "text/x-python",
   "name": "python",
   "nbconvert_exporter": "python",
   "pygments_lexer": "ipython3",
   "version": "3.11.4"
  }
 },
 "nbformat": 4,
 "nbformat_minor": 5
}
